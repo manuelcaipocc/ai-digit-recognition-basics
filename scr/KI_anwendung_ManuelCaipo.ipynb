{
 "cells": [
  {
   "cell_type": "markdown",
   "metadata": {},
   "source": [
    "# Final Assigment in KI anwendung\n",
    "## Autor : Manuel Caipo"
   ]
  },
  {
   "cell_type": "markdown",
   "metadata": {},
   "source": [
    "```to run this code please put the file \"utils.py\",\"C64_Ziffern_Daten.pkl\" and the folder \"images\"(with my handwriting) in the same folder of this notebook ```"
   ]
  },
  {
   "cell_type": "code",
   "execution_count": 1,
   "metadata": {},
   "outputs": [],
   "source": [
    "#Libraries\n",
    "import torchvision\n",
    "from torchvision import transforms\n",
    "from torchvision.datasets import MNIST\n",
    "\n",
    "import torch\n",
    "import torch.nn.functional as F\n",
    "from torch import nn\n",
    "from torch import optim\n",
    "import time\n",
    "import matplotlib.pyplot as plt\n",
    "import torchvision.models as models\n",
    "import torch.nn as nn\n",
    "from loguru import logger\n",
    "from torch.profiler import profile, record_function, ProfilerActivity\n",
    "import pickle\n",
    "from torchviz import make_dot\n",
    "from utils import load_mnist_images, display_image,inspect_batch,show_image_with_label,visualize_transformed_image\n",
    "from utils import load_and_evaluate,display_predictions_grid\n",
    "from utils import load_and_transform_images,update_pkl_file\n",
    "from utils import live_number_recognition\n",
    "from torch.utils.tensorboard import SummaryWriter \n",
    "import random\n",
    "\n",
    "import random\n",
    "import torch.utils.data\n",
    "from torch.utils.data import DataLoader, Dataset\n",
    "import torchvision.transforms as transforms\n",
    "import pickle\n",
    "from PIL import Image\n",
    "import numpy as np\n",
    "import cv2"
   ]
  },
  {
   "cell_type": "code",
   "execution_count": 2,
   "metadata": {},
   "outputs": [
    {
     "name": "stdout",
     "output_type": "stream",
     "text": [
      "Die Daten sind vom Typ: <class 'list'> und enthalten 10000 Datenelemente.\n",
      "\n",
      "Jedes Datenelement ist vom Typ: <class 'tuple'> und hat 2 Elemente:\n",
      " - Bild vom Typ: <class 'torch.Tensor'> mit der Größe: torch.Size([8, 8])\n",
      " - Label vom Typ: <class 'int'>\n"
     ]
    },
    {
     "data": {
      "text/plain": [
       "<matplotlib.image.AxesImage at 0x2d9752ecc10>"
      ]
     },
     "execution_count": 2,
     "metadata": {},
     "output_type": "execute_result"
    },
    {
     "data": {
      "image/png": "[encoded data removed]",
      "text/plain": [
       "<Figure size 640x480 with 1 Axes>"
      ]
     },
     "metadata": {},
     "output_type": "display_data"
    }
   ],
   "source": [
    "# Reading Data and describing\n",
    "with open('C64_Ziffern_Daten.pkl', 'rb') as f: data = pickle.load(f)\n",
    "\n",
    "print('Die Daten sind vom Typ:', type(data), 'und enthalten', len(data),'Datenelemente.\\n')\n",
    "print('Jedes Datenelement ist vom Typ:', type(data[0]), 'und hat', len(data[0]), 'Elemente:')\n",
    "print(' - Bild vom Typ:', type(data[0][0]), 'mit der Größe:', data[0][0]. shape)\n",
    "print(' - Label vom Typ:', type(data[0][1])) \n",
    "plt.title('Beispielbild aus dem Datensatz') \n",
    "plt.imshow(data[0][0], cmap='Grays')"
   ]
  },
  {
   "cell_type": "markdown",
   "metadata": {},
   "source": [
    "# Data Transformation"
   ]
  },
  {
   "cell_type": "markdown",
   "metadata": {},
   "source": [
    "To use PyTorch functions, images must meet specific format requirements. The original data consists of **tuples** with `torch.Tensor` images of size `(8,8)`, but PyTorch requires tensors in the format `(C, H, W)`, where **C = channels, H = height, W = width**. Normalization is also necessary to improve model stability.\n",
    "\n",
    "**PIL (Python Imaging Library)** is used to load and manipulate images in Python. PyTorch uses **Pillow** to convert images from `numpy.ndarray` or `torch.Tensor` into a manageable format before applying transformations.\n",
    "\n",
    "#### What does `CustomTensorDataset` do?\n",
    "\n",
    "The `CustomTensorDataset` class adapts the data for use in PyTorch:\n",
    "\n",
    "- **Stores the data** as tuples `(image, label)`.\n",
    "- **Converts images** to PIL if they are in `numpy.ndarray` or `torch.Tensor`.\n",
    "- **Applies transformations** (resizing, normalization, etc.).\n",
    "- **Returns** the transformed image and its label.\n",
    "\n",
    "This ensures that `(8,8)` images are resized and formatted correctly for compatibility with PyTorch models, such as MNIST or aditinal images.\n"
   ]
  },
  {
   "cell_type": "code",
   "execution_count": 3,
   "metadata": {},
   "outputs": [
    {
     "name": "stdout",
     "output_type": "stream",
     "text": [
      "Data type: <class 'list'>\n",
      "First element example: (tensor([[0.3928, 0.0469, 0.9262, 0.8127, 0.8382, 0.9960, 0.1674, 0.1467],\n",
      "        [0.5768, 0.9534, 0.8520, 0.2976, 0.4989, 0.8527, 0.9619, 0.5989],\n",
      "        [0.4381, 0.9512, 0.8014, 0.4884, 0.8352, 0.9078, 0.9555, 0.2604],\n",
      "        [0.2353, 0.9352, 0.9175, 0.9449, 0.2654, 0.9940, 0.9295, 0.2242],\n",
      "        [0.1063, 0.8323, 0.9187, 0.2577, 0.3913, 0.9843, 0.9198, 0.1516],\n",
      "        [0.0361, 0.9163, 0.9586, 0.3610, 0.4630, 0.9646, 0.9556, 0.3049],\n",
      "        [0.0717, 0.0577, 0.8920, 0.9642, 0.8419, 0.8484, 0.5507, 0.1284],\n",
      "        [0.3309, 0.0507, 0.4447, 0.4702, 0.2834, 0.2680, 0.0203, 0.0480]]), 0)\n",
      "Image batch size: torch.Size([16, 1, 28, 28])\n",
      "Labels: tensor([4, 5, 4, 5, 5, 7, 0, 6, 4, 9, 6, 7, 4, 7, 9, 9])\n"
     ]
    }
   ],
   "source": [
    "# Transformations for training and testing\n",
    "transform_train = transforms.Compose([\n",
    "    transforms.Resize((28, 28)),              # Redimensiona a 28x28\n",
    "    transforms.RandomRotation(10),           # Rotación aleatoria\n",
    "    transforms.RandomAffine(0, translate=(0.1, 0.1)),  # Desplazamiento aleatorio\n",
    "    transforms.ToTensor(),                   # Convierte a tensor\n",
    "    transforms.Normalize((0.5,), (0.5,))     # Normaliza\n",
    "])\n",
    "\n",
    "transform_test = transforms.Compose([\n",
    "    transforms.Resize((28, 28)),             # Redimensiona a 28x28\n",
    "    transforms.ToTensor(),                   # Convierte a tensor\n",
    "    transforms.Normalize((0.5,), (0.5,))     # Normaliza\n",
    "])\n",
    "\n",
    "\n",
    "# Custom dataset class\n",
    "class CustomTensorDataset(Dataset):\n",
    "    def __init__(self, tensors, transform=None):\n",
    "        self.tensors = tensors\n",
    "        self.transform = transform\n",
    "\n",
    "    def __len__(self):\n",
    "        return len(self.tensors)\n",
    "\n",
    "    def __getitem__(self, idx):\n",
    "        image, label = self.tensors[idx]\n",
    "        # Convert image if necessary\n",
    "        if isinstance(image, np.ndarray):\n",
    "            image = Image.fromarray(image)\n",
    "        elif torch.is_tensor(image):\n",
    "            image = transforms.ToPILImage()(image)\n",
    "        # Apply transformations\n",
    "        if self.transform:\n",
    "            image = self.transform(image)\n",
    "        return image, label\n",
    "\n",
    "# Load dataset\n",
    "with open('C64_Ziffern_Daten.pkl', 'rb') as f:\n",
    "    data = pickle.load(f)\n",
    "\n",
    "# Check dataset content\n",
    "print(f\"Data type: {type(data)}\")\n",
    "print(f\"First element example: {data[0]}\")\n",
    "\n",
    "# Split the dataset\n",
    "num_train_data_pk = round(len(data) * 0.8)\n",
    "train_data_pk, test_data_pk = torch.utils.data.random_split(data, [num_train_data_pk, len(data) - num_train_data_pk])\n",
    "\n",
    "# Create transformed datasets\n",
    "train_set_pk = CustomTensorDataset(train_data_pk, transform=transform_train)\n",
    "test_set_pk = CustomTensorDataset(test_data_pk, transform=transform_test)\n",
    "\n",
    "# Create data loaders\n",
    "batch_size_pk = 16\n",
    "trainloader_pk = DataLoader(train_set_pk, batch_size=batch_size_pk, shuffle=True)\n",
    "testloader_pk = DataLoader(test_set_pk, batch_size=batch_size_pk, shuffle=True)\n",
    "\n",
    "# Verify the data loader\n",
    "for images, labels in trainloader_pk:\n",
    "    print(f\"Image batch size: {images.shape}\")\n",
    "    print(f\"Labels: {labels}\")\n",
    "    #print(images)  # Muestra el tensor de 28x28\n",
    "    break"
   ]
  },
  {
   "cell_type": "markdown",
   "metadata": {},
   "source": [
    "### Visualizing data Transformed"
   ]
  },
  {
   "cell_type": "code",
   "execution_count": 4,
   "metadata": {},
   "outputs": [
    {
     "data": {
      "image/png": "[encoded data removed]",
      "text/plain": [
       "<Figure size 640x480 with 1 Axes>"
      ]
     },
     "metadata": {},
     "output_type": "display_data"
    }
   ],
   "source": [
    "visualize_transformed_image(trainloader_pk, batch_number=0, image_index=3)"
   ]
  },
  {
   "cell_type": "markdown",
   "metadata": {},
   "source": [
    "# Definition Neural Network"
   ]
  },
  {
   "cell_type": "markdown",
   "metadata": {},
   "source": [
    "### Summary of Steps in `ImprovedNet`"
   ]
  },
  {
   "cell_type": "markdown",
   "metadata": {},
   "source": [
    "`Padding = Reduce total size(ex.28x28->14x14)\n",
    "Stride = Lenght of step(messured on pixels)\n",
    "Kernel = Size of the filter(matrix)`\n",
    "\n",
    "1. **Conv1 (`Conv2d(1, 16, kernel_size=3, stride=1, padding=1)`)**  \n",
    "   - Applies 16 filters **3x3**, `stride=1`, `padding=1`  \n",
    "   - **Output:** `16x28x28` (size preserved due to `padding=1`)\n",
    "\n",
    "2. **Conv2 (`Conv2d(16, 32, kernel_size=3, stride=1, padding=1)`)**  \n",
    "   - Applies 32 filters **3x3**, `stride=1`, `padding=1`  \n",
    "   - **Output:** `32x28x28`\n",
    "\n",
    "3. **Max Pooling (`MaxPool2d(kernel_size=2, stride=2)`)**  \n",
    "   - Reduces size by half, taking max values from **2x2** blocks, `stride=2`  \n",
    "   - **Output:** `32x14x14`\n",
    "\n",
    "4. **Flatten (`torch.flatten(x, 1)`)**  \n",
    "   - Converts `32x14x14` into a `6272`-element vector\n",
    "\n",
    "5. **Fully Connected Layers (`fc1`, `fc2`, `fc3`)**  \n",
    "   - `fc1`: `6272 → 128`, ReLU + Dropout  \n",
    "   - `fc2`: `128 → 64`, ReLU + Dropout  \n",
    "   - `fc3`: `64 → 10`, final output with logits\n"
   ]
  },
  {
   "cell_type": "code",
   "execution_count": 5,
   "metadata": {},
   "outputs": [],
   "source": [
    "class ImprovedNet(nn.Module):\n",
    "    def __init__(self):\n",
    "        super(ImprovedNet, self).__init__()\n",
    "        # Convolutional layers with fewer filters\n",
    "        self.conv1 = nn.Conv2d(1, 16, kernel_size=3, stride=1, padding=1)\n",
    "        self.conv2 = nn.Conv2d(16, 32, kernel_size=3, stride=1, padding=1)\n",
    "        self.pool = nn.MaxPool2d(kernel_size=2, stride=2)  # Max pooling\n",
    "\n",
    "        # Calculate flattened size dynamically\n",
    "        self._flattened_size = self._get_flattened_size()\n",
    "\n",
    "        # Fully connected layers with reduced sizes\n",
    "        self.fc1 = nn.Linear(self._flattened_size, 128)\n",
    "        self.fc2 = nn.Linear(128, 64)\n",
    "        self.fc3 = nn.Linear(64, 10)\n",
    "\n",
    "        # Dropout with reduced probability\n",
    "        self.dropout = nn.Dropout(0.3)\n",
    "\n",
    "    def _get_flattened_size(self):\n",
    "        # Use a dummy tensor to compute the size after the convolutional layers\n",
    "        dummy_input = torch.zeros(1, 1, 28, 28)  # MNIST input size: 1 channel, 28x28 pixels\n",
    "        x = F.relu(self.conv1(dummy_input))\n",
    "        x = self.pool(F.relu(self.conv2(x)))\n",
    "        return x.numel()  # Flattened size\n",
    "\n",
    "    def forward(self, x):\n",
    "        # Convolutional layers with ReLU\n",
    "        x = F.relu(self.conv1(x))\n",
    "        x = self.pool(F.relu(self.conv2(x)))\n",
    "\n",
    "        # Flatten the tensor\n",
    "        x = torch.flatten(x, 1)\n",
    "\n",
    "        # Fully connected layers with ReLU and dropout\n",
    "        x = F.relu(self.fc1(x))\n",
    "        x = self.dropout(x)\n",
    "        x = F.relu(self.fc2(x))\n",
    "        x = self.dropout(x)\n",
    "\n",
    "        # Output layer (no activation, logits)\n",
    "        x = self.fc3(x)\n",
    "        return x"
   ]
  },
  {
   "cell_type": "markdown",
   "metadata": {},
   "source": [
    "## Instance and visualization NeuralNetwork"
   ]
  },
  {
   "cell_type": "code",
   "execution_count": 6,
   "metadata": {},
   "outputs": [
    {
     "data": {
      "text/plain": [
       "ImprovedNet(\n",
       "  (conv1): Conv2d(1, 16, kernel_size=(3, 3), stride=(1, 1), padding=(1, 1))\n",
       "  (conv2): Conv2d(16, 32, kernel_size=(3, 3), stride=(1, 1), padding=(1, 1))\n",
       "  (pool): MaxPool2d(kernel_size=2, stride=2, padding=0, dilation=1, ceil_mode=False)\n",
       "  (fc1): Linear(in_features=6272, out_features=128, bias=True)\n",
       "  (fc2): Linear(in_features=128, out_features=64, bias=True)\n",
       "  (fc3): Linear(in_features=64, out_features=10, bias=True)\n",
       "  (dropout): Dropout(p=0.3, inplace=False)\n",
       ")"
      ]
     },
     "execution_count": 6,
     "metadata": {},
     "output_type": "execute_result"
    }
   ],
   "source": [
    "# Create an instance of the model\n",
    "model_pk = ImprovedNet()\n",
    "model_pk.eval()"
   ]
  },
  {
   "cell_type": "code",
   "execution_count": 7,
   "metadata": {},
   "outputs": [
    {
     "data": {
      "image/svg+xml": [
       "<?xml version=\"1.0\" encoding=\"UTF-8\" standalone=\"no\"?>\n",
       "<!DOCTYPE svg PUBLIC \"-//W3C//DTD SVG 1.1//EN\"\n",
       " \"http://www.w3.org/Graphics/SVG/1.1/DTD/svg11.dtd\">\n",
       "<!-- Generated by graphviz version 12.2.1 (20241206.2353)\n",
       " -->\n",
       "<!-- Pages: 1 -->\n",
       "<svg width=\"510pt\" height=\"864pt\"\n",
       " viewBox=\"0.00 0.00 510.26 864.00\" xmlns=\"http://www.w3.org/2000/svg\" xmlns:xlink=\"http://www.w3.org/1999/xlink\">\n",
       "<g id=\"graph0\" class=\"graph\" transform=\"scale(0.981261 0.981261) rotate(0) translate(4 876.5)\">\n",
       "<polygon fill=\"white\" stroke=\"none\" points=\"-4,4 -4,-876.5 516,-876.5 516,4 -4,4\"/>\n",
       "<!-- 3131619911504 -->\n",
       "<g id=\"node1\" class=\"node\">\n",
       "<title>3131619911504</title>\n",
       "<polygon fill=\"#caff70\" stroke=\"black\" points=\"337,-32.75 273,-32.75 273,0 337,0 337,-32.75\"/>\n",
       "<text text-anchor=\"middle\" x=\"305\" y=\"-7.25\" font-family=\"monospace\" font-size=\"10.00\"> (1, 10)</text>\n",
       "</g>\n",
       "<!-- 3131540406032 -->\n",
       "<g id=\"node2\" class=\"node\">\n",
       "<title>3131540406032</title>\n",
       "<polygon fill=\"lightgrey\" stroke=\"black\" points=\"355,-89.5 255,-89.5 255,-68.75 355,-68.75 355,-89.5\"/>\n",
       "<text text-anchor=\"middle\" x=\"305\" y=\"-76\" font-family=\"monospace\" font-size=\"10.00\">AddmmBackward0</text>\n",
       "</g>\n",
       "<!-- 3131540406032&#45;&gt;3131619911504 -->\n",
       "<g id=\"edge34\" class=\"edge\">\n",
       "<title>3131540406032&#45;&gt;3131619911504</title>\n",
       "<path fill=\"none\" stroke=\"black\" d=\"M305,-68.36C305,-61.89 305,-53.05 305,-44.55\"/>\n",
       "<polygon fill=\"black\" stroke=\"black\" points=\"308.5,-44.55 305,-34.55 301.5,-44.55 308.5,-44.55\"/>\n",
       "</g>\n",
       "<!-- 3131540404928 -->\n",
       "<g id=\"node3\" class=\"node\">\n",
       "<title>3131540404928</title>\n",
       "<polygon fill=\"lightgrey\" stroke=\"black\" points=\"240,-146.25 140,-146.25 140,-125.5 240,-125.5 240,-146.25\"/>\n",
       "<text text-anchor=\"middle\" x=\"190\" y=\"-132.75\" font-family=\"monospace\" font-size=\"10.00\">AccumulateGrad</text>\n",
       "</g>\n",
       "<!-- 3131540404928&#45;&gt;3131540406032 -->\n",
       "<g id=\"edge1\" class=\"edge\">\n",
       "<title>3131540404928&#45;&gt;3131540406032</title>\n",
       "<path fill=\"none\" stroke=\"black\" d=\"M210.56,-125.09C228.3,-116.64 254.18,-104.32 274.37,-94.71\"/>\n",
       "<polygon fill=\"black\" stroke=\"black\" points=\"275.73,-97.94 283.25,-90.48 272.72,-91.62 275.73,-97.94\"/>\n",
       "</g>\n",
       "<!-- 3131538356032 -->\n",
       "<g id=\"node4\" class=\"node\">\n",
       "<title>3131538356032</title>\n",
       "<polygon fill=\"lightblue\" stroke=\"black\" points=\"222,-215.75 158,-215.75 158,-182.25 222,-182.25 222,-215.75\"/>\n",
       "<text text-anchor=\"middle\" x=\"190\" y=\"-202.25\" font-family=\"monospace\" font-size=\"10.00\">fc3.bias</text>\n",
       "<text text-anchor=\"middle\" x=\"190\" y=\"-189.5\" font-family=\"monospace\" font-size=\"10.00\"> (10)</text>\n",
       "</g>\n",
       "<!-- 3131538356032&#45;&gt;3131540404928 -->\n",
       "<g id=\"edge2\" class=\"edge\">\n",
       "<title>3131538356032&#45;&gt;3131540404928</title>\n",
       "<path fill=\"none\" stroke=\"black\" d=\"M190,-181.94C190,-174.6 190,-165.82 190,-157.96\"/>\n",
       "<polygon fill=\"black\" stroke=\"black\" points=\"193.5,-158.23 190,-148.23 186.5,-158.23 193.5,-158.23\"/>\n",
       "</g>\n",
       "<!-- 3131540405360 -->\n",
       "<g id=\"node5\" class=\"node\">\n",
       "<title>3131540405360</title>\n",
       "<polygon fill=\"lightgrey\" stroke=\"black\" points=\"352,-146.25 258,-146.25 258,-125.5 352,-125.5 352,-146.25\"/>\n",
       "<text text-anchor=\"middle\" x=\"305\" y=\"-132.75\" font-family=\"monospace\" font-size=\"10.00\">ReluBackward0</text>\n",
       "</g>\n",
       "<!-- 3131540405360&#45;&gt;3131540406032 -->\n",
       "<g id=\"edge3\" class=\"edge\">\n",
       "<title>3131540405360&#45;&gt;3131540406032</title>\n",
       "<path fill=\"none\" stroke=\"black\" d=\"M305,-125.09C305,-118.47 305,-109.47 305,-101.27\"/>\n",
       "<polygon fill=\"black\" stroke=\"black\" points=\"308.5,-101.34 305,-91.34 301.5,-101.34 308.5,-101.34\"/>\n",
       "</g>\n",
       "<!-- 3131540400656 -->\n",
       "<g id=\"node6\" class=\"node\">\n",
       "<title>3131540400656</title>\n",
       "<polygon fill=\"lightgrey\" stroke=\"black\" points=\"347,-209.38 247,-209.38 247,-188.62 347,-188.62 347,-209.38\"/>\n",
       "<text text-anchor=\"middle\" x=\"297\" y=\"-195.88\" font-family=\"monospace\" font-size=\"10.00\">AddmmBackward0</text>\n",
       "</g>\n",
       "<!-- 3131540400656&#45;&gt;3131540405360 -->\n",
       "<g id=\"edge4\" class=\"edge\">\n",
       "<title>3131540400656&#45;&gt;3131540405360</title>\n",
       "<path fill=\"none\" stroke=\"black\" d=\"M298.29,-188.18C299.35,-180.02 300.91,-168.13 302.25,-157.85\"/>\n",
       "<polygon fill=\"black\" stroke=\"black\" points=\"305.72,-158.34 303.55,-147.97 298.78,-157.43 305.72,-158.34\"/>\n",
       "</g>\n",
       "<!-- 3131540400848 -->\n",
       "<g id=\"node7\" class=\"node\">\n",
       "<title>3131540400848</title>\n",
       "<polygon fill=\"lightgrey\" stroke=\"black\" points=\"212,-278.88 112,-278.88 112,-258.12 212,-258.12 212,-278.88\"/>\n",
       "<text text-anchor=\"middle\" x=\"162\" y=\"-265.38\" font-family=\"monospace\" font-size=\"10.00\">AccumulateGrad</text>\n",
       "</g>\n",
       "<!-- 3131540400848&#45;&gt;3131540400656 -->\n",
       "<g id=\"edge5\" class=\"edge\">\n",
       "<title>3131540400848&#45;&gt;3131540400656</title>\n",
       "<path fill=\"none\" stroke=\"black\" d=\"M181.63,-257.68C204.13,-246.44 241.24,-227.88 267.28,-214.86\"/>\n",
       "<polygon fill=\"black\" stroke=\"black\" points=\"268.61,-218.11 275.99,-210.5 265.48,-211.85 268.61,-218.11\"/>\n",
       "</g>\n",
       "<!-- 3131538353312 -->\n",
       "<g id=\"node8\" class=\"node\">\n",
       "<title>3131538353312</title>\n",
       "<polygon fill=\"lightblue\" stroke=\"black\" points=\"194,-354.75 130,-354.75 130,-321.25 194,-321.25 194,-354.75\"/>\n",
       "<text text-anchor=\"middle\" x=\"162\" y=\"-341.25\" font-family=\"monospace\" font-size=\"10.00\">fc2.bias</text>\n",
       "<text text-anchor=\"middle\" x=\"162\" y=\"-328.5\" font-family=\"monospace\" font-size=\"10.00\"> (64)</text>\n",
       "</g>\n",
       "<!-- 3131538353312&#45;&gt;3131540400848 -->\n",
       "<g id=\"edge6\" class=\"edge\">\n",
       "<title>3131538353312&#45;&gt;3131540400848</title>\n",
       "<path fill=\"none\" stroke=\"black\" d=\"M162,-321C162,-311.9 162,-300.39 162,-290.57\"/>\n",
       "<polygon fill=\"black\" stroke=\"black\" points=\"165.5,-290.84 162,-280.84 158.5,-290.84 165.5,-290.84\"/>\n",
       "</g>\n",
       "<!-- 3131540403776 -->\n",
       "<g id=\"node9\" class=\"node\">\n",
       "<title>3131540403776</title>\n",
       "<polygon fill=\"lightgrey\" stroke=\"black\" points=\"324,-278.88 230,-278.88 230,-258.12 324,-258.12 324,-278.88\"/>\n",
       "<text text-anchor=\"middle\" x=\"277\" y=\"-265.38\" font-family=\"monospace\" font-size=\"10.00\">ReluBackward0</text>\n",
       "</g>\n",
       "<!-- 3131540403776&#45;&gt;3131540400656 -->\n",
       "<g id=\"edge7\" class=\"edge\">\n",
       "<title>3131540403776&#45;&gt;3131540400656</title>\n",
       "<path fill=\"none\" stroke=\"black\" d=\"M279.87,-257.83C282.75,-248.1 287.28,-232.82 290.96,-220.4\"/>\n",
       "<polygon fill=\"black\" stroke=\"black\" points=\"294.22,-221.69 293.71,-211.1 287.51,-219.7 294.22,-221.69\"/>\n",
       "</g>\n",
       "<!-- 3131540390336 -->\n",
       "<g id=\"node10\" class=\"node\">\n",
       "<title>3131540390336</title>\n",
       "<polygon fill=\"lightgrey\" stroke=\"black\" points=\"319,-348.38 219,-348.38 219,-327.62 319,-327.62 319,-348.38\"/>\n",
       "<text text-anchor=\"middle\" x=\"269\" y=\"-334.88\" font-family=\"monospace\" font-size=\"10.00\">AddmmBackward0</text>\n",
       "</g>\n",
       "<!-- 3131540390336&#45;&gt;3131540403776 -->\n",
       "<g id=\"edge8\" class=\"edge\">\n",
       "<title>3131540390336&#45;&gt;3131540403776</title>\n",
       "<path fill=\"none\" stroke=\"black\" d=\"M270.15,-327.33C271.29,-317.71 273.07,-302.63 274.54,-290.29\"/>\n",
       "<polygon fill=\"black\" stroke=\"black\" points=\"277.98,-291 275.68,-280.66 271.03,-290.17 277.98,-291\"/>\n",
       "</g>\n",
       "<!-- 3131540393024 -->\n",
       "<g id=\"node11\" class=\"node\">\n",
       "<title>3131540393024</title>\n",
       "<polygon fill=\"lightgrey\" stroke=\"black\" points=\"151,-417.88 51,-417.88 51,-397.12 151,-397.12 151,-417.88\"/>\n",
       "<text text-anchor=\"middle\" x=\"101\" y=\"-404.38\" font-family=\"monospace\" font-size=\"10.00\">AccumulateGrad</text>\n",
       "</g>\n",
       "<!-- 3131540393024&#45;&gt;3131540390336 -->\n",
       "<g id=\"edge9\" class=\"edge\">\n",
       "<title>3131540393024&#45;&gt;3131540390336</title>\n",
       "<path fill=\"none\" stroke=\"black\" d=\"M125.43,-396.68C154.05,-385.19 201.67,-366.05 234.15,-353\"/>\n",
       "<polygon fill=\"black\" stroke=\"black\" points=\"235.16,-356.37 243.14,-349.39 232.55,-349.87 235.16,-356.37\"/>\n",
       "</g>\n",
       "<!-- 3131538355872 -->\n",
       "<g id=\"node12\" class=\"node\">\n",
       "<title>3131538355872</title>\n",
       "<polygon fill=\"lightblue\" stroke=\"black\" points=\"130,-493.75 66,-493.75 66,-460.25 130,-460.25 130,-493.75\"/>\n",
       "<text text-anchor=\"middle\" x=\"98\" y=\"-480.25\" font-family=\"monospace\" font-size=\"10.00\">fc1.bias</text>\n",
       "<text text-anchor=\"middle\" x=\"98\" y=\"-467.5\" font-family=\"monospace\" font-size=\"10.00\"> (128)</text>\n",
       "</g>\n",
       "<!-- 3131538355872&#45;&gt;3131540393024 -->\n",
       "<g id=\"edge10\" class=\"edge\">\n",
       "<title>3131538355872&#45;&gt;3131540393024</title>\n",
       "<path fill=\"none\" stroke=\"black\" d=\"M98.71,-460C99.12,-450.9 99.63,-439.39 100.06,-429.57\"/>\n",
       "<polygon fill=\"black\" stroke=\"black\" points=\"103.55,-429.98 100.5,-419.83 96.56,-429.67 103.55,-429.98\"/>\n",
       "</g>\n",
       "<!-- 3131540397296 -->\n",
       "<g id=\"node13\" class=\"node\">\n",
       "<title>3131540397296</title>\n",
       "<polygon fill=\"lightgrey\" stroke=\"black\" points=\"314,-417.88 172,-417.88 172,-397.12 314,-397.12 314,-417.88\"/>\n",
       "<text text-anchor=\"middle\" x=\"243\" y=\"-404.38\" font-family=\"monospace\" font-size=\"10.00\">ReshapeAliasBackward0</text>\n",
       "</g>\n",
       "<!-- 3131540397296&#45;&gt;3131540390336 -->\n",
       "<g id=\"edge11\" class=\"edge\">\n",
       "<title>3131540397296&#45;&gt;3131540390336</title>\n",
       "<path fill=\"none\" stroke=\"black\" d=\"M246.73,-396.83C250.51,-387 256.48,-371.5 261.29,-359.02\"/>\n",
       "<polygon fill=\"black\" stroke=\"black\" points=\"264.41,-360.66 264.74,-350.07 257.88,-358.14 264.41,-360.66\"/>\n",
       "</g>\n",
       "<!-- 3131540403296 -->\n",
       "<g id=\"node14\" class=\"node\">\n",
       "<title>3131540403296</title>\n",
       "<polygon fill=\"lightgrey\" stroke=\"black\" points=\"338,-487.38 148,-487.38 148,-466.62 338,-466.62 338,-487.38\"/>\n",
       "<text text-anchor=\"middle\" x=\"243\" y=\"-473.88\" font-family=\"monospace\" font-size=\"10.00\">MaxPool2DWithIndicesBackward0</text>\n",
       "</g>\n",
       "<!-- 3131540403296&#45;&gt;3131540397296 -->\n",
       "<g id=\"edge12\" class=\"edge\">\n",
       "<title>3131540403296&#45;&gt;3131540397296</title>\n",
       "<path fill=\"none\" stroke=\"black\" d=\"M243,-466.33C243,-456.71 243,-441.63 243,-429.29\"/>\n",
       "<polygon fill=\"black\" stroke=\"black\" points=\"246.5,-429.67 243,-419.67 239.5,-429.67 246.5,-429.67\"/>\n",
       "</g>\n",
       "<!-- 3131540395472 -->\n",
       "<g id=\"node15\" class=\"node\">\n",
       "<title>3131540395472</title>\n",
       "<polygon fill=\"lightgrey\" stroke=\"black\" points=\"290,-556.88 196,-556.88 196,-536.12 290,-536.12 290,-556.88\"/>\n",
       "<text text-anchor=\"middle\" x=\"243\" y=\"-543.38\" font-family=\"monospace\" font-size=\"10.00\">ReluBackward0</text>\n",
       "</g>\n",
       "<!-- 3131540395472&#45;&gt;3131540403296 -->\n",
       "<g id=\"edge13\" class=\"edge\">\n",
       "<title>3131540395472&#45;&gt;3131540403296</title>\n",
       "<path fill=\"none\" stroke=\"black\" d=\"M243,-535.83C243,-526.21 243,-511.13 243,-498.79\"/>\n",
       "<polygon fill=\"black\" stroke=\"black\" points=\"246.5,-499.17 243,-489.17 239.5,-499.17 246.5,-499.17\"/>\n",
       "</g>\n",
       "<!-- 3131540392880 -->\n",
       "<g id=\"node16\" class=\"node\">\n",
       "<title>3131540392880</title>\n",
       "<polygon fill=\"lightgrey\" stroke=\"black\" points=\"311,-620 175,-620 175,-599.25 311,-599.25 311,-620\"/>\n",
       "<text text-anchor=\"middle\" x=\"243\" y=\"-606.5\" font-family=\"monospace\" font-size=\"10.00\">ConvolutionBackward0</text>\n",
       "</g>\n",
       "<!-- 3131540392880&#45;&gt;3131540395472 -->\n",
       "<g id=\"edge14\" class=\"edge\">\n",
       "<title>3131540392880&#45;&gt;3131540395472</title>\n",
       "<path fill=\"none\" stroke=\"black\" d=\"M243,-598.8C243,-590.65 243,-578.76 243,-568.48\"/>\n",
       "<polygon fill=\"black\" stroke=\"black\" points=\"246.5,-568.61 243,-558.61 239.5,-568.61 246.5,-568.61\"/>\n",
       "</g>\n",
       "<!-- 3131540394704 -->\n",
       "<g id=\"node17\" class=\"node\">\n",
       "<title>3131540394704</title>\n",
       "<polygon fill=\"lightgrey\" stroke=\"black\" points=\"166,-676.75 72,-676.75 72,-656 166,-656 166,-676.75\"/>\n",
       "<text text-anchor=\"middle\" x=\"119\" y=\"-663.25\" font-family=\"monospace\" font-size=\"10.00\">ReluBackward0</text>\n",
       "</g>\n",
       "<!-- 3131540394704&#45;&gt;3131540392880 -->\n",
       "<g id=\"edge15\" class=\"edge\">\n",
       "<title>3131540394704&#45;&gt;3131540392880</title>\n",
       "<path fill=\"none\" stroke=\"black\" d=\"M141.17,-655.59C160.48,-647.06 188.72,-634.59 210.57,-624.94\"/>\n",
       "<polygon fill=\"black\" stroke=\"black\" points=\"211.9,-628.18 219.64,-620.94 209.08,-621.78 211.9,-628.18\"/>\n",
       "</g>\n",
       "<!-- 3131540399792 -->\n",
       "<g id=\"node18\" class=\"node\">\n",
       "<title>3131540399792</title>\n",
       "<polygon fill=\"lightgrey\" stroke=\"black\" points=\"177,-739.88 41,-739.88 41,-719.12 177,-719.12 177,-739.88\"/>\n",
       "<text text-anchor=\"middle\" x=\"109\" y=\"-726.38\" font-family=\"monospace\" font-size=\"10.00\">ConvolutionBackward0</text>\n",
       "</g>\n",
       "<!-- 3131540399792&#45;&gt;3131540394704 -->\n",
       "<g id=\"edge16\" class=\"edge\">\n",
       "<title>3131540399792&#45;&gt;3131540394704</title>\n",
       "<path fill=\"none\" stroke=\"black\" d=\"M110.61,-718.68C111.96,-710.43 113.93,-698.37 115.62,-688.01\"/>\n",
       "<polygon fill=\"black\" stroke=\"black\" points=\"119.03,-688.9 117.19,-678.46 112.12,-687.77 119.03,-688.9\"/>\n",
       "</g>\n",
       "<!-- 3131540404496 -->\n",
       "<g id=\"node19\" class=\"node\">\n",
       "<title>3131540404496</title>\n",
       "<polygon fill=\"lightgrey\" stroke=\"black\" points=\"100,-803 0,-803 0,-782.25 100,-782.25 100,-803\"/>\n",
       "<text text-anchor=\"middle\" x=\"50\" y=\"-789.5\" font-family=\"monospace\" font-size=\"10.00\">AccumulateGrad</text>\n",
       "</g>\n",
       "<!-- 3131540404496&#45;&gt;3131540399792 -->\n",
       "<g id=\"edge17\" class=\"edge\">\n",
       "<title>3131540404496&#45;&gt;3131540399792</title>\n",
       "<path fill=\"none\" stroke=\"black\" d=\"M59.48,-781.8C68.22,-772.75 81.4,-759.1 91.96,-748.15\"/>\n",
       "<polygon fill=\"black\" stroke=\"black\" points=\"94.26,-750.81 98.69,-741.18 89.22,-745.95 94.26,-750.81\"/>\n",
       "</g>\n",
       "<!-- 3131538354992 -->\n",
       "<g id=\"node20\" class=\"node\">\n",
       "<title>3131538354992</title>\n",
       "<polygon fill=\"lightblue\" stroke=\"black\" points=\"100,-872.5 0,-872.5 0,-839 100,-839 100,-872.5\"/>\n",
       "<text text-anchor=\"middle\" x=\"50\" y=\"-859\" font-family=\"monospace\" font-size=\"10.00\">conv1.weight</text>\n",
       "<text text-anchor=\"middle\" x=\"50\" y=\"-846.25\" font-family=\"monospace\" font-size=\"10.00\"> (16, 1, 3, 3)</text>\n",
       "</g>\n",
       "<!-- 3131538354992&#45;&gt;3131540404496 -->\n",
       "<g id=\"edge18\" class=\"edge\">\n",
       "<title>3131538354992&#45;&gt;3131540404496</title>\n",
       "<path fill=\"none\" stroke=\"black\" d=\"M50,-838.69C50,-831.35 50,-822.57 50,-814.71\"/>\n",
       "<polygon fill=\"black\" stroke=\"black\" points=\"53.5,-814.98 50,-804.98 46.5,-814.98 53.5,-814.98\"/>\n",
       "</g>\n",
       "<!-- 3131540392832 -->\n",
       "<g id=\"node21\" class=\"node\">\n",
       "<title>3131540392832</title>\n",
       "<polygon fill=\"lightgrey\" stroke=\"black\" points=\"218,-803 118,-803 118,-782.25 218,-782.25 218,-803\"/>\n",
       "<text text-anchor=\"middle\" x=\"168\" y=\"-789.5\" font-family=\"monospace\" font-size=\"10.00\">AccumulateGrad</text>\n",
       "</g>\n",
       "<!-- 3131540392832&#45;&gt;3131540399792 -->\n",
       "<g id=\"edge19\" class=\"edge\">\n",
       "<title>3131540392832&#45;&gt;3131540399792</title>\n",
       "<path fill=\"none\" stroke=\"black\" d=\"M158.52,-781.8C149.78,-772.75 136.6,-759.1 126.04,-748.15\"/>\n",
       "<polygon fill=\"black\" stroke=\"black\" points=\"128.78,-745.95 119.31,-741.18 123.74,-750.81 128.78,-745.95\"/>\n",
       "</g>\n",
       "<!-- 3131538350912 -->\n",
       "<g id=\"node22\" class=\"node\">\n",
       "<title>3131538350912</title>\n",
       "<polygon fill=\"lightblue\" stroke=\"black\" points=\"206,-872.5 130,-872.5 130,-839 206,-839 206,-872.5\"/>\n",
       "<text text-anchor=\"middle\" x=\"168\" y=\"-859\" font-family=\"monospace\" font-size=\"10.00\">conv1.bias</text>\n",
       "<text text-anchor=\"middle\" x=\"168\" y=\"-846.25\" font-family=\"monospace\" font-size=\"10.00\"> (16)</text>\n",
       "</g>\n",
       "<!-- 3131538350912&#45;&gt;3131540392832 -->\n",
       "<g id=\"edge20\" class=\"edge\">\n",
       "<title>3131538350912&#45;&gt;3131540392832</title>\n",
       "<path fill=\"none\" stroke=\"black\" d=\"M168,-838.69C168,-831.35 168,-822.57 168,-814.71\"/>\n",
       "<polygon fill=\"black\" stroke=\"black\" points=\"171.5,-814.98 168,-804.98 164.5,-814.98 171.5,-814.98\"/>\n",
       "</g>\n",
       "<!-- 3131540395424 -->\n",
       "<g id=\"node23\" class=\"node\">\n",
       "<title>3131540395424</title>\n",
       "<polygon fill=\"lightgrey\" stroke=\"black\" points=\"293,-676.75 193,-676.75 193,-656 293,-656 293,-676.75\"/>\n",
       "<text text-anchor=\"middle\" x=\"243\" y=\"-663.25\" font-family=\"monospace\" font-size=\"10.00\">AccumulateGrad</text>\n",
       "</g>\n",
       "<!-- 3131540395424&#45;&gt;3131540392880 -->\n",
       "<g id=\"edge21\" class=\"edge\">\n",
       "<title>3131540395424&#45;&gt;3131540392880</title>\n",
       "<path fill=\"none\" stroke=\"black\" d=\"M243,-655.59C243,-648.97 243,-639.97 243,-631.77\"/>\n",
       "<polygon fill=\"black\" stroke=\"black\" points=\"246.5,-631.84 243,-621.84 239.5,-631.84 246.5,-631.84\"/>\n",
       "</g>\n",
       "<!-- 3131538352912 -->\n",
       "<g id=\"node24\" class=\"node\">\n",
       "<title>3131538352912</title>\n",
       "<polygon fill=\"lightblue\" stroke=\"black\" points=\"301,-746.25 195,-746.25 195,-712.75 301,-712.75 301,-746.25\"/>\n",
       "<text text-anchor=\"middle\" x=\"248\" y=\"-732.75\" font-family=\"monospace\" font-size=\"10.00\">conv2.weight</text>\n",
       "<text text-anchor=\"middle\" x=\"248\" y=\"-720\" font-family=\"monospace\" font-size=\"10.00\"> (32, 16, 3, 3)</text>\n",
       "</g>\n",
       "<!-- 3131538352912&#45;&gt;3131540395424 -->\n",
       "<g id=\"edge22\" class=\"edge\">\n",
       "<title>3131538352912&#45;&gt;3131540395424</title>\n",
       "<path fill=\"none\" stroke=\"black\" d=\"M246.69,-712.44C246.09,-705.1 245.37,-696.32 244.72,-688.46\"/>\n",
       "<polygon fill=\"black\" stroke=\"black\" points=\"248.23,-688.41 243.93,-678.73 241.26,-688.98 248.23,-688.41\"/>\n",
       "</g>\n",
       "<!-- 3131540394800 -->\n",
       "<g id=\"node25\" class=\"node\">\n",
       "<title>3131540394800</title>\n",
       "<polygon fill=\"lightgrey\" stroke=\"black\" points=\"411,-676.75 311,-676.75 311,-656 411,-656 411,-676.75\"/>\n",
       "<text text-anchor=\"middle\" x=\"361\" y=\"-663.25\" font-family=\"monospace\" font-size=\"10.00\">AccumulateGrad</text>\n",
       "</g>\n",
       "<!-- 3131540394800&#45;&gt;3131540392880 -->\n",
       "<g id=\"edge23\" class=\"edge\">\n",
       "<title>3131540394800&#45;&gt;3131540392880</title>\n",
       "<path fill=\"none\" stroke=\"black\" d=\"M339.9,-655.59C321.61,-647.1 294.9,-634.7 274.14,-625.08\"/>\n",
       "<polygon fill=\"black\" stroke=\"black\" points=\"275.83,-622 265.29,-620.97 272.88,-628.35 275.83,-622\"/>\n",
       "</g>\n",
       "<!-- 3131538352992 -->\n",
       "<g id=\"node26\" class=\"node\">\n",
       "<title>3131538352992</title>\n",
       "<polygon fill=\"lightblue\" stroke=\"black\" points=\"399,-746.25 323,-746.25 323,-712.75 399,-712.75 399,-746.25\"/>\n",
       "<text text-anchor=\"middle\" x=\"361\" y=\"-732.75\" font-family=\"monospace\" font-size=\"10.00\">conv2.bias</text>\n",
       "<text text-anchor=\"middle\" x=\"361\" y=\"-720\" font-family=\"monospace\" font-size=\"10.00\"> (32)</text>\n",
       "</g>\n",
       "<!-- 3131538352992&#45;&gt;3131540394800 -->\n",
       "<g id=\"edge24\" class=\"edge\">\n",
       "<title>3131538352992&#45;&gt;3131540394800</title>\n",
       "<path fill=\"none\" stroke=\"black\" d=\"M361,-712.44C361,-705.1 361,-696.32 361,-688.46\"/>\n",
       "<polygon fill=\"black\" stroke=\"black\" points=\"364.5,-688.73 361,-678.73 357.5,-688.73 364.5,-688.73\"/>\n",
       "</g>\n",
       "<!-- 3131540405216 -->\n",
       "<g id=\"node27\" class=\"node\">\n",
       "<title>3131540405216</title>\n",
       "<polygon fill=\"lightgrey\" stroke=\"black\" points=\"408,-417.88 332,-417.88 332,-397.12 408,-397.12 408,-417.88\"/>\n",
       "<text text-anchor=\"middle\" x=\"370\" y=\"-404.38\" font-family=\"monospace\" font-size=\"10.00\">TBackward0</text>\n",
       "</g>\n",
       "<!-- 3131540405216&#45;&gt;3131540390336 -->\n",
       "<g id=\"edge25\" class=\"edge\">\n",
       "<title>3131540405216&#45;&gt;3131540390336</title>\n",
       "<path fill=\"none\" stroke=\"black\" d=\"M355.53,-396.83C339.27,-385.96 312.62,-368.15 293.18,-355.16\"/>\n",
       "<polygon fill=\"black\" stroke=\"black\" points=\"295.29,-352.36 285.03,-349.71 291.4,-358.18 295.29,-352.36\"/>\n",
       "</g>\n",
       "<!-- 3131540392928 -->\n",
       "<g id=\"node28\" class=\"node\">\n",
       "<title>3131540392928</title>\n",
       "<polygon fill=\"lightgrey\" stroke=\"black\" points=\"456,-487.38 356,-487.38 356,-466.62 456,-466.62 456,-487.38\"/>\n",
       "<text text-anchor=\"middle\" x=\"406\" y=\"-473.88\" font-family=\"monospace\" font-size=\"10.00\">AccumulateGrad</text>\n",
       "</g>\n",
       "<!-- 3131540392928&#45;&gt;3131540405216 -->\n",
       "<g id=\"edge26\" class=\"edge\">\n",
       "<title>3131540392928&#45;&gt;3131540405216</title>\n",
       "<path fill=\"none\" stroke=\"black\" d=\"M400.84,-466.33C395.55,-456.4 387.16,-440.68 380.47,-428.14\"/>\n",
       "<polygon fill=\"black\" stroke=\"black\" points=\"383.65,-426.67 375.86,-419.49 377.48,-429.96 383.65,-426.67\"/>\n",
       "</g>\n",
       "<!-- 3131538352272 -->\n",
       "<g id=\"node29\" class=\"node\">\n",
       "<title>3131538352272</title>\n",
       "<polygon fill=\"lightblue\" stroke=\"black\" points=\"450,-563.25 362,-563.25 362,-529.75 450,-529.75 450,-563.25\"/>\n",
       "<text text-anchor=\"middle\" x=\"406\" y=\"-549.75\" font-family=\"monospace\" font-size=\"10.00\">fc1.weight</text>\n",
       "<text text-anchor=\"middle\" x=\"406\" y=\"-537\" font-family=\"monospace\" font-size=\"10.00\"> (128, 6272)</text>\n",
       "</g>\n",
       "<!-- 3131538352272&#45;&gt;3131540392928 -->\n",
       "<g id=\"edge27\" class=\"edge\">\n",
       "<title>3131538352272&#45;&gt;3131540392928</title>\n",
       "<path fill=\"none\" stroke=\"black\" d=\"M406,-529.5C406,-520.4 406,-508.89 406,-499.07\"/>\n",
       "<polygon fill=\"black\" stroke=\"black\" points=\"409.5,-499.34 406,-489.34 402.5,-499.34 409.5,-499.34\"/>\n",
       "</g>\n",
       "<!-- 3131540397152 -->\n",
       "<g id=\"node30\" class=\"node\">\n",
       "<title>3131540397152</title>\n",
       "<polygon fill=\"lightgrey\" stroke=\"black\" points=\"418,-278.88 342,-278.88 342,-258.12 418,-258.12 418,-278.88\"/>\n",
       "<text text-anchor=\"middle\" x=\"380\" y=\"-265.38\" font-family=\"monospace\" font-size=\"10.00\">TBackward0</text>\n",
       "</g>\n",
       "<!-- 3131540397152&#45;&gt;3131540400656 -->\n",
       "<g id=\"edge28\" class=\"edge\">\n",
       "<title>3131540397152&#45;&gt;3131540400656</title>\n",
       "<path fill=\"none\" stroke=\"black\" d=\"M368.11,-257.83C354.99,-247.16 333.65,-229.8 317.76,-216.88\"/>\n",
       "<polygon fill=\"black\" stroke=\"black\" points=\"320.28,-214.42 310.31,-210.83 315.86,-219.85 320.28,-214.42\"/>\n",
       "</g>\n",
       "<!-- 3131540392016 -->\n",
       "<g id=\"node31\" class=\"node\">\n",
       "<title>3131540392016</title>\n",
       "<polygon fill=\"lightgrey\" stroke=\"black\" points=\"488,-348.38 388,-348.38 388,-327.62 488,-327.62 488,-348.38\"/>\n",
       "<text text-anchor=\"middle\" x=\"438\" y=\"-334.88\" font-family=\"monospace\" font-size=\"10.00\">AccumulateGrad</text>\n",
       "</g>\n",
       "<!-- 3131540392016&#45;&gt;3131540397152 -->\n",
       "<g id=\"edge29\" class=\"edge\">\n",
       "<title>3131540392016&#45;&gt;3131540397152</title>\n",
       "<path fill=\"none\" stroke=\"black\" d=\"M429.69,-327.33C420.82,-317 406.55,-300.4 395.58,-287.63\"/>\n",
       "<polygon fill=\"black\" stroke=\"black\" points=\"398.45,-285.6 389.28,-280.3 393.14,-290.17 398.45,-285.6\"/>\n",
       "</g>\n",
       "<!-- 3131538355712 -->\n",
       "<g id=\"node32\" class=\"node\">\n",
       "<title>3131538355712</title>\n",
       "<polygon fill=\"lightblue\" stroke=\"black\" points=\"502,-424.25 426,-424.25 426,-390.75 502,-390.75 502,-424.25\"/>\n",
       "<text text-anchor=\"middle\" x=\"464\" y=\"-410.75\" font-family=\"monospace\" font-size=\"10.00\">fc2.weight</text>\n",
       "<text text-anchor=\"middle\" x=\"464\" y=\"-398\" font-family=\"monospace\" font-size=\"10.00\"> (64, 128)</text>\n",
       "</g>\n",
       "<!-- 3131538355712&#45;&gt;3131540392016 -->\n",
       "<g id=\"edge30\" class=\"edge\">\n",
       "<title>3131538355712&#45;&gt;3131540392016</title>\n",
       "<path fill=\"none\" stroke=\"black\" d=\"M457.84,-390.5C454.26,-381.2 449.7,-369.38 445.86,-359.41\"/>\n",
       "<polygon fill=\"black\" stroke=\"black\" points=\"449.19,-358.31 442.33,-350.23 442.66,-360.82 449.19,-358.31\"/>\n",
       "</g>\n",
       "<!-- 3131540406224 -->\n",
       "<g id=\"node33\" class=\"node\">\n",
       "<title>3131540406224</title>\n",
       "<polygon fill=\"lightgrey\" stroke=\"black\" points=\"469,-146.25 393,-146.25 393,-125.5 469,-125.5 469,-146.25\"/>\n",
       "<text text-anchor=\"middle\" x=\"431\" y=\"-132.75\" font-family=\"monospace\" font-size=\"10.00\">TBackward0</text>\n",
       "</g>\n",
       "<!-- 3131540406224&#45;&gt;3131540406032 -->\n",
       "<g id=\"edge31\" class=\"edge\">\n",
       "<title>3131540406224&#45;&gt;3131540406032</title>\n",
       "<path fill=\"none\" stroke=\"black\" d=\"M408.47,-125.09C388.76,-116.52 359.89,-103.98 337.65,-94.31\"/>\n",
       "<polygon fill=\"black\" stroke=\"black\" points=\"339.29,-91.21 328.72,-90.43 336.5,-97.63 339.29,-91.21\"/>\n",
       "</g>\n",
       "<!-- 3131540403680 -->\n",
       "<g id=\"node34\" class=\"node\">\n",
       "<title>3131540403680</title>\n",
       "<polygon fill=\"lightgrey\" stroke=\"black\" points=\"504,-209.38 404,-209.38 404,-188.62 504,-188.62 504,-209.38\"/>\n",
       "<text text-anchor=\"middle\" x=\"454\" y=\"-195.88\" font-family=\"monospace\" font-size=\"10.00\">AccumulateGrad</text>\n",
       "</g>\n",
       "<!-- 3131540403680&#45;&gt;3131540406224 -->\n",
       "<g id=\"edge32\" class=\"edge\">\n",
       "<title>3131540403680&#45;&gt;3131540406224</title>\n",
       "<path fill=\"none\" stroke=\"black\" d=\"M450.3,-188.18C447.17,-179.84 442.56,-167.61 438.64,-157.18\"/>\n",
       "<polygon fill=\"black\" stroke=\"black\" points=\"441.94,-156.01 435.14,-147.89 435.39,-158.48 441.94,-156.01\"/>\n",
       "</g>\n",
       "<!-- 3131538355952 -->\n",
       "<g id=\"node35\" class=\"node\">\n",
       "<title>3131538355952</title>\n",
       "<polygon fill=\"lightblue\" stroke=\"black\" points=\"512,-285.25 436,-285.25 436,-251.75 512,-251.75 512,-285.25\"/>\n",
       "<text text-anchor=\"middle\" x=\"474\" y=\"-271.75\" font-family=\"monospace\" font-size=\"10.00\">fc3.weight</text>\n",
       "<text text-anchor=\"middle\" x=\"474\" y=\"-259\" font-family=\"monospace\" font-size=\"10.00\"> (10, 64)</text>\n",
       "</g>\n",
       "<!-- 3131538355952&#45;&gt;3131540403680 -->\n",
       "<g id=\"edge33\" class=\"edge\">\n",
       "<title>3131538355952&#45;&gt;3131540403680</title>\n",
       "<path fill=\"none\" stroke=\"black\" d=\"M469.26,-251.5C466.53,-242.3 463.08,-230.64 460.14,-220.74\"/>\n",
       "<polygon fill=\"black\" stroke=\"black\" points=\"463.54,-219.87 457.34,-211.27 456.83,-221.86 463.54,-219.87\"/>\n",
       "</g>\n",
       "</g>\n",
       "</svg>\n"
      ],
      "text/plain": [
       "<graphviz.graphs.Digraph at 0x2d91e5a7280>"
      ]
     },
     "execution_count": 7,
     "metadata": {},
     "output_type": "execute_result"
    }
   ],
   "source": [
    "# Create a dummy input for visualization\n",
    "dummy_input = torch.randn(1, 1, 28, 28) \n",
    "\n",
    "# Create the visualization graph\n",
    "vis_graph = make_dot(model_pk(dummy_input), params=dict(list(model_pk.named_parameters())))\n",
    "\n",
    "# Display the visualization (you might need to install Graphviz)\n",
    "vis_graph"
   ]
  },
  {
   "cell_type": "markdown",
   "metadata": {},
   "source": [
    "## Model Training"
   ]
  },
  {
   "cell_type": "code",
   "execution_count": 8,
   "metadata": {},
   "outputs": [],
   "source": [
    "\n",
    "learning_rate=0.001\n",
    "epochs=4\n",
    "device = 'cuda' if torch.cuda.is_available() else 'cpu'\n",
    "model_pk = model_pk.to(device=device)\n",
    "\n",
    "criterion = nn.CrossEntropyLoss()\n",
    "optimizer = torch.optim.Adam(model_pk.parameters(), lr=learning_rate)\n",
    "\n",
    "#The optimizer can influence the speed and stability of training. \n",
    "# Instead of SGD, you can use Adam, which automatically adjusts the\n",
    "#  learning rates for each parameter:\n"
   ]
  },
  {
   "cell_type": "code",
   "execution_count": 9,
   "metadata": {},
   "outputs": [],
   "source": [
    "def train_and_evaluate(trainloader, testloader, model, optimizer, criterion, epochs, device):\n",
    "    \"\"\"\n",
    "    Train the model and evaluate its accuracy on the test dataset.\n",
    "\n",
    "    Parameters:\n",
    "    - trainloader: DataLoader for the training dataset.\n",
    "    - testloader: DataLoader for the testing dataset.\n",
    "    - model: The PyTorch model to train.\n",
    "    - optimizer: The optimizer used for training.\n",
    "    - criterion: The loss function.\n",
    "    - epochs: Number of epochs to train.\n",
    "    - device: The device to use ('cpu' or 'cuda').\n",
    "    \"\"\"\n",
    "    model.to(device)\n",
    "\n",
    "    # Training loop\n",
    "    for epoch in range(epochs):\n",
    "        model.train()\n",
    "        epoch_loss = 0.0\n",
    "        \n",
    "        # Training over each batch\n",
    "        for inputs, labels in trainloader:\n",
    "            inputs = inputs.to(device)\n",
    "            labels = labels.to(device)\n",
    "\n",
    "            optimizer.zero_grad()\n",
    "            outputs = model(inputs)\n",
    "            loss = criterion(outputs, labels)\n",
    "            loss.backward()\n",
    "            optimizer.step()\n",
    "\n",
    "            epoch_loss += loss.item()\n",
    "        \n",
    "        # Calculate accuracy after each epoch\n",
    "        model.eval()  # Set model to evaluation mode\n",
    "        correct = 0\n",
    "        total = 0\n",
    "\n",
    "        with torch.no_grad():\n",
    "            for inputs, labels in testloader:\n",
    "                inputs = inputs.to(device)\n",
    "                labels = labels.to(device)\n",
    "                outputs = model(inputs)\n",
    "                _, predicted = torch.max(outputs, 1)  # Get predicted labels\n",
    "                total += labels.size(0)\n",
    "                correct += (predicted == labels).sum().item()\n",
    "        \n",
    "        accuracy = 100 * correct / total\n",
    "        print(f'Epoch: {epoch + 1}/{epochs}, Loss: {epoch_loss / len(trainloader):.6f}, Accuracy: {accuracy:.2f}%')\n",
    "\n"
   ]
  },
  {
   "cell_type": "code",
   "execution_count": 10,
   "metadata": {},
   "outputs": [
    {
     "name": "stdout",
     "output_type": "stream",
     "text": [
      "Epoch: 1/4, Loss: 0.908101, Accuracy: 99.25%\n",
      "Epoch: 2/4, Loss: 0.245044, Accuracy: 99.80%\n",
      "Epoch: 3/4, Loss: 0.142068, Accuracy: 99.70%\n",
      "Epoch: 4/4, Loss: 0.118310, Accuracy: 100.00%\n"
     ]
    }
   ],
   "source": [
    "train_and_evaluate(\n",
    "    trainloader=trainloader_pk,\n",
    "    testloader=testloader_pk,\n",
    "    model=model_pk,\n",
    "    optimizer=optimizer,\n",
    "    criterion=criterion,\n",
    "    epochs=epochs,\n",
    "    device=device\n",
    ")"
   ]
  },
  {
   "cell_type": "markdown",
   "metadata": {},
   "source": [
    "## Saving Model weights"
   ]
  },
  {
   "cell_type": "code",
   "execution_count": 11,
   "metadata": {},
   "outputs": [
    {
     "name": "stderr",
     "output_type": "stream",
     "text": [
      "\u001b[32m2025-03-28 13:30:27.470\u001b[0m | \u001b[1mINFO    \u001b[0m | \u001b[36m__main__\u001b[0m:\u001b[36m<module>\u001b[0m:\u001b[36m2\u001b[0m - \u001b[1mModel weights with pk Data saved successfully!\u001b[0m\n"
     ]
    }
   ],
   "source": [
    "torch.save(model_pk.state_dict(), \"improved_net_weights_pk.pth\")\n",
    "logger.info(\"Model weights with pk Data saved successfully!\")"
   ]
  },
  {
   "cell_type": "markdown",
   "metadata": {},
   "source": [
    "## Loading weights"
   ]
  },
  {
   "cell_type": "code",
   "execution_count": 12,
   "metadata": {},
   "outputs": [
    {
     "name": "stdout",
     "output_type": "stream",
     "text": [
      "Model weights loaded successfully!\n"
     ]
    }
   ],
   "source": [
    "# Load the saved weights into the model\n",
    "model_pk.load_state_dict(torch.load(\"improved_net_weights.pth\"))\n",
    "print(\"Model weights loaded successfully!\")\n",
    "device = 'cuda' if torch.cuda.is_available() else 'cpu'\n",
    "model_pk = model_pk.to(device=device)\n",
    "# Set the model to evaluation mode for inference"
   ]
  },
  {
   "cell_type": "markdown",
   "metadata": {},
   "source": [
    "### Training with my handwriting and adding it to the pickle file"
   ]
  },
  {
   "cell_type": "code",
   "execution_count": 13,
   "metadata": {},
   "outputs": [
    {
     "name": "stdout",
     "output_type": "stream",
     "text": [
      "Total tuples after update: 20000\n",
      "File saved as: C64_Ziffern_plus_myhandwriting.pkl\n"
     ]
    },
    {
     "data": {
      "text/plain": [
       "20000"
      ]
     },
     "execution_count": 13,
     "metadata": {},
     "output_type": "execute_result"
    }
   ],
   "source": [
    "images_data = load_and_transform_images()\n",
    "update_pkl_file(images_data, output_file=\"C64_Ziffern_plus_myhandwriting.pkl\")\n"
   ]
  },
  {
   "cell_type": "code",
   "execution_count": 14,
   "metadata": {},
   "outputs": [
    {
     "name": "stdout",
     "output_type": "stream",
     "text": [
      "Displaying some of the newly added images:\n"
     ]
    },
    {
     "data": {
      "image/png": "[encoded data removed]",
      "text/plain": [
       "<Figure size 640x480 with 1 Axes>"
      ]
     },
     "metadata": {},
     "output_type": "display_data"
    },
    {
     "name": "stdout",
     "output_type": "stream",
     "text": [
      "Data type: <class 'list'>\n",
      "First element example: (tensor([[0.3928, 0.0469, 0.9262, 0.8127, 0.8382, 0.9960, 0.1674, 0.1467],\n",
      "        [0.5768, 0.9534, 0.8520, 0.2976, 0.4989, 0.8527, 0.9619, 0.5989],\n",
      "        [0.4381, 0.9512, 0.8014, 0.4884, 0.8352, 0.9078, 0.9555, 0.2604],\n",
      "        [0.2353, 0.9352, 0.9175, 0.9449, 0.2654, 0.9940, 0.9295, 0.2242],\n",
      "        [0.1063, 0.8323, 0.9187, 0.2577, 0.3913, 0.9843, 0.9198, 0.1516],\n",
      "        [0.0361, 0.9163, 0.9586, 0.3610, 0.4630, 0.9646, 0.9556, 0.3049],\n",
      "        [0.0717, 0.0577, 0.8920, 0.9642, 0.8419, 0.8484, 0.5507, 0.1284],\n",
      "        [0.3309, 0.0507, 0.4447, 0.4702, 0.2834, 0.2680, 0.0203, 0.0480]]), 0)\n",
      "Image batch size: torch.Size([16, 1, 28, 28])\n",
      "Labels: tensor([9, 4, 7, 4, 8, 7, 9, 0, 3, 9, 3, 7, 4, 2, 9, 6])\n"
     ]
    }
   ],
   "source": [
    "# Load dataset\n",
    "with open('C64_Ziffern_plus_myhandwriting.pkl', 'rb') as f:\n",
    "    data = pickle.load(f)\n",
    "    \n",
    "def show_tensor_image(tensor, label):\n",
    "    \"\"\" Muestra una imagen de tensor con su etiqueta \"\"\"\n",
    "    plt.imshow(tensor.numpy(), cmap='gray')\n",
    "    plt.title(f\"Label: {label}\")\n",
    "    plt.axis(\"off\")\n",
    "    plt.show()\n",
    "\n",
    "# Mostrar las últimas 5 imágenes agregadas\n",
    "print(\"Displaying some of the newly added images:\")\n",
    "for i in range(-1, 0):  # Últimas 5 imágenes\n",
    "    show_tensor_image(data[i][0], data[i][1])  # (imagen, lab\n",
    "\n",
    "# Check dataset content\n",
    "print(f\"Data type: {type(data)}\")\n",
    "print(f\"First element example: {data[0]}\")\n",
    "\n",
    "# Split the dataset\n",
    "num_train_data_ph = round(len(data) * 0.8)\n",
    "train_data_pk, test_data_ph = torch.utils.data.random_split(data, [num_train_data_pk, len(data) - num_train_data_pk])\n",
    "\n",
    "# Create transformed datasets\n",
    "train_set_ph = CustomTensorDataset(train_data_pk, transform=transform_train)\n",
    "test_set_ph = CustomTensorDataset(test_data_pk, transform=transform_test)\n",
    "\n",
    "# Create data loaders\n",
    "batch_size_ph = 16\n",
    "trainloader_ph = DataLoader(train_set_pk, batch_size=batch_size_pk, shuffle=True)\n",
    "testloader_ph = DataLoader(test_set_pk, batch_size=batch_size_pk, shuffle=True)\n",
    "\n",
    "# Verify the data loader\n",
    "for images, labels in trainloader_pk:\n",
    "    print(f\"Image batch size: {images.shape}\")\n",
    "    print(f\"Labels: {labels}\")\n",
    "    #print(images)  # Muestra el tensor de 28x28\n",
    "    break"
   ]
  },
  {
   "cell_type": "code",
   "execution_count": 15,
   "metadata": {},
   "outputs": [
    {
     "name": "stdout",
     "output_type": "stream",
     "text": [
      "Epoch: 1/4, Loss: 0.796589, Accuracy: 99.30%\n",
      "Epoch: 2/4, Loss: 0.198114, Accuracy: 99.65%\n",
      "Epoch: 3/4, Loss: 0.106715, Accuracy: 99.95%\n",
      "Epoch: 4/4, Loss: 0.089674, Accuracy: 100.00%\n"
     ]
    }
   ],
   "source": [
    "# Create an instance of the model from cero with my handwriting\n",
    "model_ph = ImprovedNet()\n",
    "model_ph.eval()\n",
    "learning_rate=0.001\n",
    "epochs=4\n",
    "device = 'cuda' if torch.cuda.is_available() else 'cpu'\n",
    "model_pk = model_pk.to(device=device)\n",
    "batch_size_ph = 16\n",
    "criterion = nn.CrossEntropyLoss()\n",
    "optimizer = torch.optim.Adam(model_ph.parameters(), lr=learning_rate)\n",
    "train_and_evaluate(\n",
    "    trainloader=trainloader_ph,\n",
    "    testloader=testloader_ph,\n",
    "    model=model_ph,\n",
    "    optimizer=optimizer,\n",
    "    criterion=criterion,\n",
    "    epochs=epochs,\n",
    "    device=device\n",
    ")"
   ]
  },
  {
   "cell_type": "markdown",
   "metadata": {},
   "source": [
    "## Saving Model weights with my handwriting"
   ]
  },
  {
   "cell_type": "code",
   "execution_count": 16,
   "metadata": {},
   "outputs": [
    {
     "name": "stderr",
     "output_type": "stream",
     "text": [
      "\u001b[32m2025-03-28 13:31:09.673\u001b[0m | \u001b[1mINFO    \u001b[0m | \u001b[36m__main__\u001b[0m:\u001b[36m<module>\u001b[0m:\u001b[36m2\u001b[0m - \u001b[1mModel weights with ph Data saved successfully!\u001b[0m\n"
     ]
    }
   ],
   "source": [
    "torch.save(model_ph.state_dict(), \"improved_net_weights_ph.pth\")\n",
    "logger.info(\"Model weights with ph Data saved successfully!\")"
   ]
  },
  {
   "cell_type": "markdown",
   "metadata": {},
   "source": [
    "## Loading Model wieghts with my handwriting"
   ]
  },
  {
   "cell_type": "code",
   "execution_count": 17,
   "metadata": {},
   "outputs": [
    {
     "name": "stdout",
     "output_type": "stream",
     "text": [
      "Model weights loaded successfully!\n"
     ]
    }
   ],
   "source": [
    "# Load the saved weights into the model\n",
    "model_ph.load_state_dict(torch.load(\"improved_net_weights_ph.pth\"))\n",
    "print(\"Model weights loaded successfully!\")\n",
    "device = 'cuda' if torch.cuda.is_available() else 'cpu'\n",
    "model_ph = model_ph.to(device=device)\n",
    "# Set the model to evaluation mode for inference"
   ]
  },
  {
   "cell_type": "markdown",
   "metadata": {},
   "source": [
    "# Life Predictions"
   ]
  },
  {
   "cell_type": "code",
   "execution_count": 18,
   "metadata": {},
   "outputs": [
    {
     "name": "stdout",
     "output_type": "stream",
     "text": [
      "Press 'q' to quit.\n"
     ]
    }
   ],
   "source": [
    "device='cpu'\n",
    "live_number_recognition(model_ph, device)"
   ]
  }
 ],
 "metadata": {
  "kernelspec": {
   "display_name": "aufgabeki-2PnLxZlE-py3.10",
   "language": "python",
   "name": "python3"
  },
  "language_info": {
   "codemirror_mode": {
    "name": "ipython",
    "version": 3
   },
   "file_extension": ".py",
   "mimetype": "text/x-python",
   "name": "python",
   "nbconvert_exporter": "python",
   "pygments_lexer": "ipython3",
   "version": "3.10.11"
  }
 },
 "nbformat": 4,
 "nbformat_minor": 2
}
